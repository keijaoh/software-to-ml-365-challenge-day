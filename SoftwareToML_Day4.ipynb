{
  "nbformat": 4,
  "nbformat_minor": 0,
  "metadata": {
    "colab": {
      "provenance": []
    },
    "kernelspec": {
      "name": "python3",
      "display_name": "Python 3"
    },
    "language_info": {
      "name": "python"
    }
  },
  "cells": [
    {
      "cell_type": "code",
      "execution_count": 1,
      "metadata": {
        "colab": {
          "base_uri": "https://localhost:8080/"
        },
        "id": "OU8aCJHuKWFj",
        "outputId": "c04da3b0-97b7-4d3b-fee5-e4a3b4b6853a"
      },
      "outputs": [
        {
          "output_type": "stream",
          "name": "stdout",
          "text": [
            "Looking in indexes: https://pypi.org/simple, https://us-python.pkg.dev/colab-wheels/public/simple/\n",
            "Requirement already satisfied: sympy in /usr/local/lib/python3.7/dist-packages (1.7.1)\n",
            "Requirement already satisfied: mpmath>=0.19 in /usr/local/lib/python3.7/dist-packages (from sympy) (1.2.1)\n"
          ]
        }
      ],
      "source": [
        "#install package\n",
        "!pip install sympy"
      ]
    },
    {
      "cell_type": "code",
      "source": [
        "import sympy as sym\n",
        "from sympy import Derivative, tan, sin "
      ],
      "metadata": {
        "id": "PzXExYbvcBRO"
      },
      "execution_count": 2,
      "outputs": []
    },
    {
      "cell_type": "code",
      "source": [
        "x = sym.Symbol('x')\n",
        "func = sym.diff(x**5)\n",
        "\n",
        "d = Derivative(func)\n",
        "\n",
        "d"
      ],
      "metadata": {
        "colab": {
          "base_uri": "https://localhost:8080/",
          "height": 52
        },
        "id": "xAA0bFB0cOao",
        "outputId": "2cdd6e5f-89ec-46a3-8a5a-395f08e2dd1f"
      },
      "execution_count": 4,
      "outputs": [
        {
          "output_type": "execute_result",
          "data": {
            "text/plain": [
              "Derivative(5*x**4, x)"
            ],
            "text/latex": "$\\displaystyle \\frac{d}{d x} 5 x^{4}$"
          },
          "metadata": {},
          "execution_count": 4
        }
      ]
    },
    {
      "cell_type": "code",
      "source": [
        "d.doit()"
      ],
      "metadata": {
        "colab": {
          "base_uri": "https://localhost:8080/",
          "height": 39
        },
        "id": "PbP0Q99KcySn",
        "outputId": "fc66168f-9c82-4cba-e466-67f622b689fc"
      },
      "execution_count": 5,
      "outputs": [
        {
          "output_type": "execute_result",
          "data": {
            "text/plain": [
              "20*x**3"
            ],
            "text/latex": "$\\displaystyle 20 x^{3}$"
          },
          "metadata": {},
          "execution_count": 5
        }
      ]
    },
    {
      "cell_type": "code",
      "source": [
        "sym.diff(x**6)"
      ],
      "metadata": {
        "colab": {
          "base_uri": "https://localhost:8080/",
          "height": 39
        },
        "id": "VxNauhnAc-IA",
        "outputId": "23be88a5-12cd-40f9-a32b-50eb29baa5a0"
      },
      "execution_count": 6,
      "outputs": [
        {
          "output_type": "execute_result",
          "data": {
            "text/plain": [
              "6*x**5"
            ],
            "text/latex": "$\\displaystyle 6 x^{5}$"
          },
          "metadata": {},
          "execution_count": 6
        }
      ]
    },
    {
      "cell_type": "code",
      "source": [
        "def find_derivative(expression):\n",
        "  return sym.diff(expression)"
      ],
      "metadata": {
        "id": "oDufnZVpdOZz"
      },
      "execution_count": 7,
      "outputs": []
    },
    {
      "cell_type": "code",
      "source": [
        "#test of the function\n",
        "find_derivative(expression= x**2)"
      ],
      "metadata": {
        "colab": {
          "base_uri": "https://localhost:8080/",
          "height": 39
        },
        "id": "oou95K54dbLP",
        "outputId": "dbe15b1f-60de-4447-9256-63ecc4f3d7e4"
      },
      "execution_count": 8,
      "outputs": [
        {
          "output_type": "execute_result",
          "data": {
            "text/plain": [
              "2*x"
            ],
            "text/latex": "$\\displaystyle 2 x$"
          },
          "metadata": {},
          "execution_count": 8
        }
      ]
    },
    {
      "cell_type": "code",
      "source": [
        "from sympy import *"
      ],
      "metadata": {
        "id": "a6M2y-SmdlF1"
      },
      "execution_count": 9,
      "outputs": []
    },
    {
      "cell_type": "code",
      "source": [
        "#all the questions\n",
        "\n",
        "a= x**2\n",
        "b = x\n",
        "c = 1/x\n",
        "d = 1/(x**2)\n",
        "\n",
        "n = sym.ln(x)\n",
        "i = tan(x)\n",
        "\n",
        "f = exp(x)\n",
        "\n",
        "u = exp(2*x)\n",
        "\n",
        "ex1 = exp(2*x) + x**3 + 7*x**2"
      ],
      "metadata": {
        "id": "Gp0sYogDdqGD"
      },
      "execution_count": 10,
      "outputs": []
    },
    {
      "cell_type": "code",
      "source": [
        "#1.a \n",
        "find_derivative(expression= a)"
      ],
      "metadata": {
        "colab": {
          "base_uri": "https://localhost:8080/",
          "height": 39
        },
        "id": "mZ0j5NZweOKN",
        "outputId": "30f51ef5-4143-47d2-ba4f-30cb0d0ee008"
      },
      "execution_count": 11,
      "outputs": [
        {
          "output_type": "execute_result",
          "data": {
            "text/plain": [
              "2*x"
            ],
            "text/latex": "$\\displaystyle 2 x$"
          },
          "metadata": {},
          "execution_count": 11
        }
      ]
    },
    {
      "cell_type": "code",
      "source": [
        "#1.b\n",
        "find_derivative(expression= b)"
      ],
      "metadata": {
        "colab": {
          "base_uri": "https://localhost:8080/",
          "height": 37
        },
        "id": "rAu0P2R3eULK",
        "outputId": "ffbacccb-4984-45f2-d0f2-f66aae1d95f9"
      },
      "execution_count": 12,
      "outputs": [
        {
          "output_type": "execute_result",
          "data": {
            "text/plain": [
              "1"
            ],
            "text/latex": "$\\displaystyle 1$"
          },
          "metadata": {},
          "execution_count": 12
        }
      ]
    },
    {
      "cell_type": "code",
      "source": [
        "#1.c\n",
        "find_derivative(expression= c)"
      ],
      "metadata": {
        "colab": {
          "base_uri": "https://localhost:8080/",
          "height": 51
        },
        "id": "0V3GMWaxeaTo",
        "outputId": "de6193ad-09b6-497e-dcfa-b3a1cfdacff0"
      },
      "execution_count": 13,
      "outputs": [
        {
          "output_type": "execute_result",
          "data": {
            "text/plain": [
              "-1/x**2"
            ],
            "text/latex": "$\\displaystyle - \\frac{1}{x^{2}}$"
          },
          "metadata": {},
          "execution_count": 13
        }
      ]
    },
    {
      "cell_type": "code",
      "source": [
        "#1.d\n",
        "find_derivative(expression= d)"
      ],
      "metadata": {
        "colab": {
          "base_uri": "https://localhost:8080/",
          "height": 51
        },
        "id": "X0xh6vTyeeX4",
        "outputId": "45da7b4b-b605-47f3-cfd8-0fce49b03e4b"
      },
      "execution_count": 14,
      "outputs": [
        {
          "output_type": "execute_result",
          "data": {
            "text/plain": [
              "-2/x**3"
            ],
            "text/latex": "$\\displaystyle - \\frac{2}{x^{3}}$"
          },
          "metadata": {},
          "execution_count": 14
        }
      ]
    },
    {
      "cell_type": "code",
      "source": [
        "#1.n \n",
        "find_derivative(expression= n)"
      ],
      "metadata": {
        "colab": {
          "base_uri": "https://localhost:8080/",
          "height": 51
        },
        "id": "I01oUUYnekJD",
        "outputId": "da4a43ff-f82b-45e5-a780-53c8a3f93d41"
      },
      "execution_count": 15,
      "outputs": [
        {
          "output_type": "execute_result",
          "data": {
            "text/plain": [
              "1/x"
            ],
            "text/latex": "$\\displaystyle \\frac{1}{x}$"
          },
          "metadata": {},
          "execution_count": 15
        }
      ]
    },
    {
      "cell_type": "code",
      "source": [
        "#2.1\n",
        "find_derivative(expression= ex1)"
      ],
      "metadata": {
        "colab": {
          "base_uri": "https://localhost:8080/",
          "height": 39
        },
        "id": "x8-8ZMgeeotW",
        "outputId": "afce7214-4c3e-42a3-d565-273c86bd62cf"
      },
      "execution_count": 16,
      "outputs": [
        {
          "output_type": "execute_result",
          "data": {
            "text/plain": [
              "3*x**2 + 14*x + 2*exp(2*x)"
            ],
            "text/latex": "$\\displaystyle 3 x^{2} + 14 x + 2 e^{2 x}$"
          },
          "metadata": {},
          "execution_count": 16
        }
      ]
    }
  ]
}