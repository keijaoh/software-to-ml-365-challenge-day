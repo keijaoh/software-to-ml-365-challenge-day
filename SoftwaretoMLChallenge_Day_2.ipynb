{
  "nbformat": 4,
  "nbformat_minor": 0,
  "metadata": {
    "colab": {
      "provenance": [],
      "collapsed_sections": []
    },
    "kernelspec": {
      "name": "python3",
      "display_name": "Python 3"
    },
    "language_info": {
      "name": "python"
    }
  },
  "cells": [
    {
      "cell_type": "code",
      "execution_count": 1,
      "metadata": {
        "id": "IfxurPALlihj"
      },
      "outputs": [],
      "source": [
        "#Day 2\n",
        "\n",
        "#Library used to import data from google drive\n",
        "!pip install -U -q PyDrive"
      ]
    },
    {
      "cell_type": "code",
      "source": [
        "from pydrive.auth import GoogleAuth\n",
        "from pydrive.drive import GoogleDrive\n",
        "from google.colab import auth\n",
        "from oauth2client.client import GoogleCredentials\n",
        " \n",
        " \n",
        "# Authenticate and create the PyDrive client.\n",
        "auth.authenticate_user()\n",
        "gauth = GoogleAuth()\n",
        "gauth.credentials = GoogleCredentials.get_application_default()\n",
        "drive = GoogleDrive(gauth)"
      ],
      "metadata": {
        "id": "3zc94zqUpNL3"
      },
      "execution_count": 2,
      "outputs": []
    },
    {
      "cell_type": "markdown",
      "source": [
        "Data Source: https://www.kaggle.com/datasets/ivanmsiegfried/hematology?resource=download"
      ],
      "metadata": {
        "id": "IkbIdVoXpXPT"
      }
    },
    {
      "cell_type": "code",
      "source": [
        "import pandas as pd"
      ],
      "metadata": {
        "id": "IL5yOeHVpatt"
      },
      "execution_count": 3,
      "outputs": []
    },
    {
      "cell_type": "code",
      "source": [
        "file_link = \"Google File Location\"\n",
        "file_name = \"training_set.csv\"\n",
        "\n",
        "\n",
        "# to get the id part of the file\n",
        "id = file_link.split(\"/\")[-2]\n",
        " \n",
        "downloaded = drive.CreateFile({'id':id})\n",
        "downloaded.GetContentFile(file_name) \n",
        " \n",
        "hema_csv = pd.read_csv(file_name)"
      ],
      "metadata": {
        "id": "B8sAehm9pfP8"
      },
      "execution_count": 4,
      "outputs": []
    },
    {
      "cell_type": "code",
      "source": [
        "hema_csv"
      ],
      "metadata": {
        "colab": {
          "base_uri": "https://localhost:8080/",
          "height": 424
        },
        "id": "hK0BEA0Lplrr",
        "outputId": "a30d1ddf-1d0f-4999-f302-e9f149ddcbfa"
      },
      "execution_count": 5,
      "outputs": [
        {
          "output_type": "execute_result",
          "data": {
            "text/plain": [
              "      HAEMATOCRIT  HAEMOGLOBINS  ERYTHROCYTE  LEUCOCYTE  THROMBOCYTE   MCH  \\\n",
              "0            33.8          11.1         4.18        4.6          150  26.6   \n",
              "1            44.6          14.0         6.86        6.3          232  20.4   \n",
              "2            42.9          14.0         4.57        6.2          336  30.6   \n",
              "3            41.9          14.4         4.67        3.5          276  30.8   \n",
              "4            40.6          13.3         4.85       14.9          711  27.4   \n",
              "...           ...           ...          ...        ...          ...   ...   \n",
              "3304         39.0          13.2         4.45        4.0           50  29.7   \n",
              "3305         25.4           8.2         3.27        5.4           90  25.1   \n",
              "3306         38.2          12.4         4.40        8.4          328  28.2   \n",
              "3307         43.4          15.2         5.29       10.1          326  28.7   \n",
              "3308         32.4          10.7         3.66        9.4          214  29.2   \n",
              "\n",
              "      MCHC   MCV  AGE SEX  SOURCE  \n",
              "0     32.8  80.9   33   F       1  \n",
              "1     31.4  65.0   36   M       0  \n",
              "2     32.6  93.9   70   F       0  \n",
              "3     34.4  89.7   18   F       0  \n",
              "4     32.8  83.7   36   M       0  \n",
              "...    ...   ...  ...  ..     ...  \n",
              "3304  33.8  87.6   45   M       1  \n",
              "3305  32.3  77.7    1   F       1  \n",
              "3306  32.5  86.8   64   M       0  \n",
              "3307  35.0  82.0   33   M       0  \n",
              "3308  33.0  88.5   72   F       1  \n",
              "\n",
              "[3309 rows x 11 columns]"
            ],
            "text/html": [
              "\n",
              "  <div id=\"df-f76368ad-7451-4285-ae83-0baf46c60551\">\n",
              "    <div class=\"colab-df-container\">\n",
              "      <div>\n",
              "<style scoped>\n",
              "    .dataframe tbody tr th:only-of-type {\n",
              "        vertical-align: middle;\n",
              "    }\n",
              "\n",
              "    .dataframe tbody tr th {\n",
              "        vertical-align: top;\n",
              "    }\n",
              "\n",
              "    .dataframe thead th {\n",
              "        text-align: right;\n",
              "    }\n",
              "</style>\n",
              "<table border=\"1\" class=\"dataframe\">\n",
              "  <thead>\n",
              "    <tr style=\"text-align: right;\">\n",
              "      <th></th>\n",
              "      <th>HAEMATOCRIT</th>\n",
              "      <th>HAEMOGLOBINS</th>\n",
              "      <th>ERYTHROCYTE</th>\n",
              "      <th>LEUCOCYTE</th>\n",
              "      <th>THROMBOCYTE</th>\n",
              "      <th>MCH</th>\n",
              "      <th>MCHC</th>\n",
              "      <th>MCV</th>\n",
              "      <th>AGE</th>\n",
              "      <th>SEX</th>\n",
              "      <th>SOURCE</th>\n",
              "    </tr>\n",
              "  </thead>\n",
              "  <tbody>\n",
              "    <tr>\n",
              "      <th>0</th>\n",
              "      <td>33.8</td>\n",
              "      <td>11.1</td>\n",
              "      <td>4.18</td>\n",
              "      <td>4.6</td>\n",
              "      <td>150</td>\n",
              "      <td>26.6</td>\n",
              "      <td>32.8</td>\n",
              "      <td>80.9</td>\n",
              "      <td>33</td>\n",
              "      <td>F</td>\n",
              "      <td>1</td>\n",
              "    </tr>\n",
              "    <tr>\n",
              "      <th>1</th>\n",
              "      <td>44.6</td>\n",
              "      <td>14.0</td>\n",
              "      <td>6.86</td>\n",
              "      <td>6.3</td>\n",
              "      <td>232</td>\n",
              "      <td>20.4</td>\n",
              "      <td>31.4</td>\n",
              "      <td>65.0</td>\n",
              "      <td>36</td>\n",
              "      <td>M</td>\n",
              "      <td>0</td>\n",
              "    </tr>\n",
              "    <tr>\n",
              "      <th>2</th>\n",
              "      <td>42.9</td>\n",
              "      <td>14.0</td>\n",
              "      <td>4.57</td>\n",
              "      <td>6.2</td>\n",
              "      <td>336</td>\n",
              "      <td>30.6</td>\n",
              "      <td>32.6</td>\n",
              "      <td>93.9</td>\n",
              "      <td>70</td>\n",
              "      <td>F</td>\n",
              "      <td>0</td>\n",
              "    </tr>\n",
              "    <tr>\n",
              "      <th>3</th>\n",
              "      <td>41.9</td>\n",
              "      <td>14.4</td>\n",
              "      <td>4.67</td>\n",
              "      <td>3.5</td>\n",
              "      <td>276</td>\n",
              "      <td>30.8</td>\n",
              "      <td>34.4</td>\n",
              "      <td>89.7</td>\n",
              "      <td>18</td>\n",
              "      <td>F</td>\n",
              "      <td>0</td>\n",
              "    </tr>\n",
              "    <tr>\n",
              "      <th>4</th>\n",
              "      <td>40.6</td>\n",
              "      <td>13.3</td>\n",
              "      <td>4.85</td>\n",
              "      <td>14.9</td>\n",
              "      <td>711</td>\n",
              "      <td>27.4</td>\n",
              "      <td>32.8</td>\n",
              "      <td>83.7</td>\n",
              "      <td>36</td>\n",
              "      <td>M</td>\n",
              "      <td>0</td>\n",
              "    </tr>\n",
              "    <tr>\n",
              "      <th>...</th>\n",
              "      <td>...</td>\n",
              "      <td>...</td>\n",
              "      <td>...</td>\n",
              "      <td>...</td>\n",
              "      <td>...</td>\n",
              "      <td>...</td>\n",
              "      <td>...</td>\n",
              "      <td>...</td>\n",
              "      <td>...</td>\n",
              "      <td>...</td>\n",
              "      <td>...</td>\n",
              "    </tr>\n",
              "    <tr>\n",
              "      <th>3304</th>\n",
              "      <td>39.0</td>\n",
              "      <td>13.2</td>\n",
              "      <td>4.45</td>\n",
              "      <td>4.0</td>\n",
              "      <td>50</td>\n",
              "      <td>29.7</td>\n",
              "      <td>33.8</td>\n",
              "      <td>87.6</td>\n",
              "      <td>45</td>\n",
              "      <td>M</td>\n",
              "      <td>1</td>\n",
              "    </tr>\n",
              "    <tr>\n",
              "      <th>3305</th>\n",
              "      <td>25.4</td>\n",
              "      <td>8.2</td>\n",
              "      <td>3.27</td>\n",
              "      <td>5.4</td>\n",
              "      <td>90</td>\n",
              "      <td>25.1</td>\n",
              "      <td>32.3</td>\n",
              "      <td>77.7</td>\n",
              "      <td>1</td>\n",
              "      <td>F</td>\n",
              "      <td>1</td>\n",
              "    </tr>\n",
              "    <tr>\n",
              "      <th>3306</th>\n",
              "      <td>38.2</td>\n",
              "      <td>12.4</td>\n",
              "      <td>4.40</td>\n",
              "      <td>8.4</td>\n",
              "      <td>328</td>\n",
              "      <td>28.2</td>\n",
              "      <td>32.5</td>\n",
              "      <td>86.8</td>\n",
              "      <td>64</td>\n",
              "      <td>M</td>\n",
              "      <td>0</td>\n",
              "    </tr>\n",
              "    <tr>\n",
              "      <th>3307</th>\n",
              "      <td>43.4</td>\n",
              "      <td>15.2</td>\n",
              "      <td>5.29</td>\n",
              "      <td>10.1</td>\n",
              "      <td>326</td>\n",
              "      <td>28.7</td>\n",
              "      <td>35.0</td>\n",
              "      <td>82.0</td>\n",
              "      <td>33</td>\n",
              "      <td>M</td>\n",
              "      <td>0</td>\n",
              "    </tr>\n",
              "    <tr>\n",
              "      <th>3308</th>\n",
              "      <td>32.4</td>\n",
              "      <td>10.7</td>\n",
              "      <td>3.66</td>\n",
              "      <td>9.4</td>\n",
              "      <td>214</td>\n",
              "      <td>29.2</td>\n",
              "      <td>33.0</td>\n",
              "      <td>88.5</td>\n",
              "      <td>72</td>\n",
              "      <td>F</td>\n",
              "      <td>1</td>\n",
              "    </tr>\n",
              "  </tbody>\n",
              "</table>\n",
              "<p>3309 rows × 11 columns</p>\n",
              "</div>\n",
              "      <button class=\"colab-df-convert\" onclick=\"convertToInteractive('df-f76368ad-7451-4285-ae83-0baf46c60551')\"\n",
              "              title=\"Convert this dataframe to an interactive table.\"\n",
              "              style=\"display:none;\">\n",
              "        \n",
              "  <svg xmlns=\"http://www.w3.org/2000/svg\" height=\"24px\"viewBox=\"0 0 24 24\"\n",
              "       width=\"24px\">\n",
              "    <path d=\"M0 0h24v24H0V0z\" fill=\"none\"/>\n",
              "    <path d=\"M18.56 5.44l.94 2.06.94-2.06 2.06-.94-2.06-.94-.94-2.06-.94 2.06-2.06.94zm-11 1L8.5 8.5l.94-2.06 2.06-.94-2.06-.94L8.5 2.5l-.94 2.06-2.06.94zm10 10l.94 2.06.94-2.06 2.06-.94-2.06-.94-.94-2.06-.94 2.06-2.06.94z\"/><path d=\"M17.41 7.96l-1.37-1.37c-.4-.4-.92-.59-1.43-.59-.52 0-1.04.2-1.43.59L10.3 9.45l-7.72 7.72c-.78.78-.78 2.05 0 2.83L4 21.41c.39.39.9.59 1.41.59.51 0 1.02-.2 1.41-.59l7.78-7.78 2.81-2.81c.8-.78.8-2.07 0-2.86zM5.41 20L4 18.59l7.72-7.72 1.47 1.35L5.41 20z\"/>\n",
              "  </svg>\n",
              "      </button>\n",
              "      \n",
              "  <style>\n",
              "    .colab-df-container {\n",
              "      display:flex;\n",
              "      flex-wrap:wrap;\n",
              "      gap: 12px;\n",
              "    }\n",
              "\n",
              "    .colab-df-convert {\n",
              "      background-color: #E8F0FE;\n",
              "      border: none;\n",
              "      border-radius: 50%;\n",
              "      cursor: pointer;\n",
              "      display: none;\n",
              "      fill: #1967D2;\n",
              "      height: 32px;\n",
              "      padding: 0 0 0 0;\n",
              "      width: 32px;\n",
              "    }\n",
              "\n",
              "    .colab-df-convert:hover {\n",
              "      background-color: #E2EBFA;\n",
              "      box-shadow: 0px 1px 2px rgba(60, 64, 67, 0.3), 0px 1px 3px 1px rgba(60, 64, 67, 0.15);\n",
              "      fill: #174EA6;\n",
              "    }\n",
              "\n",
              "    [theme=dark] .colab-df-convert {\n",
              "      background-color: #3B4455;\n",
              "      fill: #D2E3FC;\n",
              "    }\n",
              "\n",
              "    [theme=dark] .colab-df-convert:hover {\n",
              "      background-color: #434B5C;\n",
              "      box-shadow: 0px 1px 3px 1px rgba(0, 0, 0, 0.15);\n",
              "      filter: drop-shadow(0px 1px 2px rgba(0, 0, 0, 0.3));\n",
              "      fill: #FFFFFF;\n",
              "    }\n",
              "  </style>\n",
              "\n",
              "      <script>\n",
              "        const buttonEl =\n",
              "          document.querySelector('#df-f76368ad-7451-4285-ae83-0baf46c60551 button.colab-df-convert');\n",
              "        buttonEl.style.display =\n",
              "          google.colab.kernel.accessAllowed ? 'block' : 'none';\n",
              "\n",
              "        async function convertToInteractive(key) {\n",
              "          const element = document.querySelector('#df-f76368ad-7451-4285-ae83-0baf46c60551');\n",
              "          const dataTable =\n",
              "            await google.colab.kernel.invokeFunction('convertToInteractive',\n",
              "                                                     [key], {});\n",
              "          if (!dataTable) return;\n",
              "\n",
              "          const docLinkHtml = 'Like what you see? Visit the ' +\n",
              "            '<a target=\"_blank\" href=https://colab.research.google.com/notebooks/data_table.ipynb>data table notebook</a>'\n",
              "            + ' to learn more about interactive tables.';\n",
              "          element.innerHTML = '';\n",
              "          dataTable['output_type'] = 'display_data';\n",
              "          await google.colab.output.renderOutput(dataTable, element);\n",
              "          const docLink = document.createElement('div');\n",
              "          docLink.innerHTML = docLinkHtml;\n",
              "          element.appendChild(docLink);\n",
              "        }\n",
              "      </script>\n",
              "    </div>\n",
              "  </div>\n",
              "  "
            ]
          },
          "metadata": {},
          "execution_count": 5
        }
      ]
    },
    {
      "cell_type": "code",
      "source": [
        "#calculate the age avg, min and max\n",
        "\n",
        "average_patient_age = round(hema_csv['AGE'].mean(),2)\n",
        "\n",
        "print(f'Average Age is: {average_patient_age}')\n",
        "\n",
        "max_patient_age = round(hema_csv['AGE'].max(),2)\n",
        "\n",
        "print(f'Oldest Patient Age: {max_patient_age}')\n",
        "\n",
        "min_patient_age = round(hema_csv['AGE'].min(),2)\n",
        "\n",
        "print(f'Youngest Patient Age: {min_patient_age}')"
      ],
      "metadata": {
        "colab": {
          "base_uri": "https://localhost:8080/"
        },
        "id": "njbHlJXRwOYT",
        "outputId": "4b2154bb-d408-48e0-ff1e-6ec1c5e66d67"
      },
      "execution_count": 9,
      "outputs": [
        {
          "output_type": "stream",
          "name": "stdout",
          "text": [
            "Average Age is: 46.64\n",
            "Oldest Patient Age: 99\n",
            "Youngest Patient Age: 1\n"
          ]
        }
      ]
    },
    {
      "cell_type": "code",
      "source": [
        "# find all the Patients within the healthy range for Hemaglobin\n",
        "#safe zone for Men is 13.2 to  16.6 grams\n",
        "\n",
        "healthy_range_of_male_patients = hema_csv[(hema_csv['HAEMOGLOBINS'] >= 13.2) & (hema_csv['HAEMOGLOBINS'] <= 16.6)]\n",
        "\n",
        "num_of_healthy_male_count = len(healthy_range_of_male_patients)\n",
        "\n",
        "print(f'Number of Healthy Males: {num_of_healthy_male_count}')\n",
        "\n",
        "print(healthy_range_of_male_patients)"
      ],
      "metadata": {
        "colab": {
          "base_uri": "https://localhost:8080/"
        },
        "id": "gtWMiNvWxNfE",
        "outputId": "8b4e6f43-d34c-4e46-8fcb-3db61f2ee68b"
      },
      "execution_count": 11,
      "outputs": [
        {
          "output_type": "stream",
          "name": "stdout",
          "text": [
            "Number of Healthy Males: 1448\n",
            "      HAEMATOCRIT  HAEMOGLOBINS  ERYTHROCYTE  LEUCOCYTE  THROMBOCYTE   MCH  \\\n",
            "1            44.6          14.0         6.86        6.3          232  20.4   \n",
            "2            42.9          14.0         4.57        6.2          336  30.6   \n",
            "3            41.9          14.4         4.67        3.5          276  30.8   \n",
            "4            40.6          13.3         4.85       14.9          711  27.4   \n",
            "12           47.8          15.6         5.70        7.1          122  27.4   \n",
            "...           ...           ...          ...        ...          ...   ...   \n",
            "3297         44.7          15.5         5.06        5.7          256  30.6   \n",
            "3301         43.7          13.8         5.02        6.2          297  27.5   \n",
            "3302         43.1          14.3         5.24        5.5           55  27.3   \n",
            "3304         39.0          13.2         4.45        4.0           50  29.7   \n",
            "3307         43.4          15.2         5.29       10.1          326  28.7   \n",
            "\n",
            "      MCHC   MCV  AGE SEX  SOURCE  \n",
            "1     31.4  65.0   36   M       0  \n",
            "2     32.6  93.9   70   F       0  \n",
            "3     34.4  89.7   18   F       0  \n",
            "4     32.8  83.7   36   M       0  \n",
            "12    32.6  83.9   53   M       1  \n",
            "...    ...   ...  ...  ..     ...  \n",
            "3297  34.7  88.3   40   M       0  \n",
            "3301  31.6  87.1   52   F       1  \n",
            "3302  33.2  82.3   22   M       1  \n",
            "3304  33.8  87.6   45   M       1  \n",
            "3307  35.0  82.0   33   M       0  \n",
            "\n",
            "[1448 rows x 11 columns]\n"
          ]
        }
      ]
    },
    {
      "cell_type": "code",
      "source": [
        "# find all the Patients within the healthy range for Hemaglobin for Females\n",
        "#safe zone for Women is 11.6 to 15 grams\n",
        "\n",
        "healthy_range_of_female_patients = hema_csv[(hema_csv['HAEMOGLOBINS'] >= 11.6) & (hema_csv['HAEMOGLOBINS'] <= 15)]\n",
        "\n",
        "num_of_healthy_female_count = len(healthy_range_of_female_patients)\n",
        "\n",
        "print(f'Number of Healthy Feales: {num_of_healthy_female_count}')\n",
        "\n",
        "print(num_of_healthy_female_count)"
      ],
      "metadata": {
        "colab": {
          "base_uri": "https://localhost:8080/"
        },
        "id": "viEZzTM-yXnx",
        "outputId": "a6645f29-889b-477b-ed45-62b6ae0d1b15"
      },
      "execution_count": 12,
      "outputs": [
        {
          "output_type": "stream",
          "name": "stdout",
          "text": [
            "Number of Healthy Feales: 1962\n",
            "1962\n"
          ]
        }
      ]
    },
    {
      "cell_type": "code",
      "source": [
        "#unhealthy males\n",
        "\n",
        "unhealthy_range_of_male_patients = hema_csv[(hema_csv['HAEMOGLOBINS'] < 13.2) | (hema_csv['HAEMOGLOBINS'] > 16.6)]\n",
        "\n",
        "num_of_unhealthy_male_count = len(unhealthy_range_of_male_patients)\n",
        "\n",
        "print(f'Number of Un-Healthy Males: {num_of_unhealthy_male_count}')\n",
        "\n",
        "print(unhealthy_range_of_male_patients)"
      ],
      "metadata": {
        "colab": {
          "base_uri": "https://localhost:8080/"
        },
        "id": "K9rPImFiy5f_",
        "outputId": "3e4cdeaf-9716-495d-9a0a-cd1cd462e94e"
      },
      "execution_count": 14,
      "outputs": [
        {
          "output_type": "stream",
          "name": "stdout",
          "text": [
            "Number of Un-Healthy Males: 1861\n",
            "      HAEMATOCRIT  HAEMOGLOBINS  ERYTHROCYTE  LEUCOCYTE  THROMBOCYTE   MCH  \\\n",
            "0            33.8          11.1         4.18        4.6          150  26.6   \n",
            "5            32.8          11.2         3.94       11.0          324  28.4   \n",
            "6            21.9           7.3         3.06       22.6          237  23.9   \n",
            "7            38.4          12.3         4.37        9.0          193  28.1   \n",
            "8            27.9           9.2         3.13       19.2          135  29.4   \n",
            "...           ...           ...          ...        ...          ...   ...   \n",
            "3300         34.7          11.8         4.07        7.4          280  29.0   \n",
            "3303         34.3          11.2         4.41       11.0          103  25.4   \n",
            "3305         25.4           8.2         3.27        5.4           90  25.1   \n",
            "3306         38.2          12.4         4.40        8.4          328  28.2   \n",
            "3308         32.4          10.7         3.66        9.4          214  29.2   \n",
            "\n",
            "      MCHC   MCV  AGE SEX  SOURCE  \n",
            "0     32.8  80.9   33   F       1  \n",
            "5     34.1  83.2   89   F       0  \n",
            "6     33.3  71.6   53   M       0  \n",
            "7     32.0  87.9   74   M       1  \n",
            "8     33.0  89.1   56   M       1  \n",
            "...    ...   ...  ...  ..     ...  \n",
            "3300  34.0  85.3   42   F       1  \n",
            "3303  32.7  77.8    8   F       0  \n",
            "3305  32.3  77.7    1   F       1  \n",
            "3306  32.5  86.8   64   M       0  \n",
            "3308  33.0  88.5   72   F       1  \n",
            "\n",
            "[1861 rows x 11 columns]\n"
          ]
        }
      ]
    },
    {
      "cell_type": "code",
      "source": [
        "#unhealthy females\n",
        "\n",
        "unhealthy_range_of_female_patients = hema_csv[(hema_csv['HAEMOGLOBINS'] < 11.6) | (hema_csv['HAEMOGLOBINS'] > 15)]\n",
        "\n",
        "num_of_unhealthy_female_count = len(unhealthy_range_of_female_patients)\n",
        "\n",
        "print(f'Number of Un-Healthy Females: {num_of_unhealthy_female_count}')\n",
        "\n",
        "print(unhealthy_range_of_female_patients)"
      ],
      "metadata": {
        "colab": {
          "base_uri": "https://localhost:8080/"
        },
        "id": "9W8NFxlUzQHO",
        "outputId": "e631fbd4-b529-44ff-91fc-e09a28852074"
      },
      "execution_count": 15,
      "outputs": [
        {
          "output_type": "stream",
          "name": "stdout",
          "text": [
            "Number of Un-Healthy Females: 1347\n",
            "      HAEMATOCRIT  HAEMOGLOBINS  ERYTHROCYTE  LEUCOCYTE  THROMBOCYTE   MCH  \\\n",
            "0            33.8          11.1         4.18        4.6          150  26.6   \n",
            "5            32.8          11.2         3.94       11.0          324  28.4   \n",
            "6            21.9           7.3         3.06       22.6          237  23.9   \n",
            "8            27.9           9.2         3.13       19.2          135  29.4   \n",
            "10           30.5          10.0         3.46        7.3          230  28.9   \n",
            "...           ...           ...          ...        ...          ...   ...   \n",
            "3297         44.7          15.5         5.06        5.7          256  30.6   \n",
            "3303         34.3          11.2         4.41       11.0          103  25.4   \n",
            "3305         25.4           8.2         3.27        5.4           90  25.1   \n",
            "3307         43.4          15.2         5.29       10.1          326  28.7   \n",
            "3308         32.4          10.7         3.66        9.4          214  29.2   \n",
            "\n",
            "      MCHC   MCV  AGE SEX  SOURCE  \n",
            "0     32.8  80.9   33   F       1  \n",
            "5     34.1  83.2   89   F       0  \n",
            "6     33.3  71.6   53   M       0  \n",
            "8     33.0  89.1   56   M       1  \n",
            "10    32.8  88.2   62   M       1  \n",
            "...    ...   ...  ...  ..     ...  \n",
            "3297  34.7  88.3   40   M       0  \n",
            "3303  32.7  77.8    8   F       0  \n",
            "3305  32.3  77.7    1   F       1  \n",
            "3307  35.0  82.0   33   M       0  \n",
            "3308  33.0  88.5   72   F       1  \n",
            "\n",
            "[1347 rows x 11 columns]\n"
          ]
        }
      ]
    },
    {
      "cell_type": "code",
      "source": [
        "#Male or Female, who has the highest concentration of LEUCOCYTE\n",
        "#sum the male and female\n",
        "\n",
        "#Male \n",
        "all_male_patients = hema_csv[hema_csv['SEX'] == 'M']\n",
        "\n",
        "#get the sum\n",
        "total_male_concentration_of_leucocyte = round(all_male_patients['LEUCOCYTE'].sum(),2)\n",
        "\n",
        "print(f'Total Male Concentration of LEUCOCYTE: {total_male_concentration_of_leucocyte} ')\n",
        "\n",
        "#get the average\n",
        "mean_male_concentration_of_leucocyte = round(all_male_patients['LEUCOCYTE'].mean(),2)\n",
        "\n",
        "print(f'Average Male Concentration of LEUCOCYTE: {mean_male_concentration_of_leucocyte} ')"
      ],
      "metadata": {
        "colab": {
          "base_uri": "https://localhost:8080/"
        },
        "id": "-6JnUJ5bzoId",
        "outputId": "f2af7739-f475-4adc-83b0-76da8e4a3e4f"
      },
      "execution_count": 20,
      "outputs": [
        {
          "output_type": "stream",
          "name": "stdout",
          "text": [
            "Total Male Concentration of LEUCOCYTE: 15520.9 \n",
            "Average Male Concentration of LEUCOCYTE: 8.9 \n"
          ]
        }
      ]
    },
    {
      "cell_type": "code",
      "source": [
        "#Female \n",
        "all_female_patients = hema_csv[hema_csv['SEX'] == 'F']\n",
        "\n",
        "#get the sum\n",
        "total_female_concentration_of_leucocyte = round(all_female_patients['LEUCOCYTE'].sum(),2)\n",
        "\n",
        "print(f'Total Female Concentration of LEUCOCYTE: {total_female_concentration_of_leucocyte} ')\n",
        "\n",
        "#get the average\n",
        "mean_female_concentration_of_leucocyte = round(all_female_patients['LEUCOCYTE'].mean(),2)\n",
        "\n",
        "print(f'Average Female Concentration of LEUCOCYTE: {mean_female_concentration_of_leucocyte} ')"
      ],
      "metadata": {
        "colab": {
          "base_uri": "https://localhost:8080/"
        },
        "id": "cmkuZxT70q3Y",
        "outputId": "0a5d8c25-7957-4d3f-9ee9-0832ba743e85"
      },
      "execution_count": 21,
      "outputs": [
        {
          "output_type": "stream",
          "name": "stdout",
          "text": [
            "Total Female Concentration of LEUCOCYTE: 13318.8 \n",
            "Average Female Concentration of LEUCOCYTE: 8.5 \n"
          ]
        }
      ]
    },
    {
      "cell_type": "code",
      "source": [
        "#M or F has the highest total concentration of LEUCOCYTE\n",
        "\n",
        "if total_female_concentration_of_leucocyte > total_male_concentration_of_leucocyte:\n",
        "    print(f'The Female Patients have higher concentration of LEUCOCYTE ({total_female_concentration_of_leucocyte})')\n",
        "else:\n",
        "   print(f'The Male Patients have higher concentration of LEUCOCYTE ({total_male_concentration_of_leucocyte})')"
      ],
      "metadata": {
        "colab": {
          "base_uri": "https://localhost:8080/"
        },
        "id": "xwbC-25B1EI2",
        "outputId": "658ae807-237a-450c-c5ec-71dcd475263c"
      },
      "execution_count": 22,
      "outputs": [
        {
          "output_type": "stream",
          "name": "stdout",
          "text": [
            "The Male Patients have higher concentration of LEUCOCYTE (15520.9)\n"
          ]
        }
      ]
    }
  ]
}